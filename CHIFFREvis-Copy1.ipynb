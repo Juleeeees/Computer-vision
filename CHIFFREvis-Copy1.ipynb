{
 "cells": [
  {
   "cell_type": "code",
   "execution_count": 4,
   "id": "33887595-a270-47e8-a8e7-520c1448b9cf",
   "metadata": {},
   "outputs": [],
   "source": [
    "import numpy as np\n",
    "import pandas as pd\n",
    "from matplotlib import pyplot as plt\n",
    "import random\n",
    "import time\n",
    "from keras.datasets import mnist"
   ]
  },
  {
   "cell_type": "code",
   "execution_count": 5,
   "id": "618f4909-cba2-4cb4-aa2f-0be6bb6b5d5f",
   "metadata": {},
   "outputs": [],
   "source": [
    "(x_train, y_train), (x_test, y_test) = mnist.load_data()"
   ]
  },
  {
   "cell_type": "code",
   "execution_count": 6,
   "id": "549bea77-dfc6-4dfb-a701-4fcf645822a6",
   "metadata": {},
   "outputs": [],
   "source": [
    "# On met le type des images en float.\n",
    "x_train = x_train.astype('float32')\n",
    "x_test = x_test.astype('float32')\n",
    "# On met les images sous la forme d'un vecteur.\n",
    "x_train = x_train.reshape(60000, 784)\n",
    "x_test = x_test.reshape(10000, 784) \n",
    "# On normalise les images.\n",
    "x_train = x_train / 255.0\n",
    "x_test = x_test / 255.0"
   ]
  },
  {
   "cell_type": "code",
   "execution_count": 7,
   "id": "37755959-c785-4f1b-9dcf-0d84c815f635",
   "metadata": {},
   "outputs": [
    {
     "data": {
      "text/plain": [
       "<matplotlib.image.AxesImage at 0x1ed60e1ffa0>"
      ]
     },
     "execution_count": 7,
     "metadata": {},
     "output_type": "execute_result"
    },
    {
     "data": {
      "image/png": "[encoded data removed]",
      "text/plain": [
       "<Figure size 640x480 with 1 Axes>"
      ]
     },
     "metadata": {},
     "output_type": "display_data"
    }
   ],
   "source": [
    "#Affichage de la 3ème image\n",
    "n = 360\n",
    "Y0_ = pd.get_dummies(y_train).values\n",
    "Y1_ = pd.get_dummies(y_test).values\n",
    "plt.imshow(x_test[n, :].reshape(28, 28), cmap=\"gray\")"
   ]
  },
  {
   "cell_type": "code",
   "execution_count": 8,
   "id": "da6dbfc5-5c63-4ad7-a595-c536dd1e2bbd",
   "metadata": {},
   "outputs": [],
   "source": [
    "from sklearn import preprocessing\n",
    "std_scale = preprocessing.StandardScaler().fit(x_train)\n",
    "X_train_std = std_scale.transform(x_train)\n",
    "X_test_std = std_scale.transform(x_test)"
   ]
  },
  {
   "cell_type": "code",
   "execution_count": 9,
   "id": "f72d1bfa-fd6a-44a2-ae04-146fa89f6e8f",
   "metadata": {},
   "outputs": [],
   "source": [
    "from sklearn.neighbors import KNeighborsClassifier\n"
   ]
  },
  {
   "cell_type": "code",
   "execution_count": 10,
   "id": "8cb30abb-d618-486e-a55e-be01782e3b1a",
   "metadata": {},
   "outputs": [],
   "source": [
    "knn = KNeighborsClassifier(n_neighbors = 3)"
   ]
  },
  {
   "cell_type": "code",
   "execution_count": 11,
   "id": "ae026e0c-3482-465a-9214-9360feffb61c",
   "metadata": {},
   "outputs": [
    {
     "data": {
      "text/html": [
       "<style>#sk-container-id-1 {color: black;}#sk-container-id-1 pre{padding: 0;}#sk-container-id-1 div.sk-toggleable {background-color: white;}#sk-container-id-1 label.sk-toggleable__label {cursor: pointer;display: block;width: 100%;margin-bottom: 0;padding: 0.3em;box-sizing: border-box;text-align: center;}#sk-container-id-1 label.sk-toggleable__label-arrow:before {content: \"▸\";float: left;margin-right: 0.25em;color: #696969;}#sk-container-id-1 label.sk-toggleable__label-arrow:hover:before {color: black;}#sk-container-id-1 div.sk-estimator:hover label.sk-toggleable__label-arrow:before {color: black;}#sk-container-id-1 div.sk-toggleable__content {max-height: 0;max-width: 0;overflow: hidden;text-align: left;background-color: #f0f8ff;}#sk-container-id-1 div.sk-toggleable__content pre {margin: 0.2em;color: black;border-radius: 0.25em;background-color: #f0f8ff;}#sk-container-id-1 input.sk-toggleable__control:checked~div.sk-toggleable__content {max-height: 200px;max-width: 100%;overflow: auto;}#sk-container-id-1 input.sk-toggleable__control:checked~label.sk-toggleable__label-arrow:before {content: \"▾\";}#sk-container-id-1 div.sk-estimator input.sk-toggleable__control:checked~label.sk-toggleable__label {background-color: #d4ebff;}#sk-container-id-1 div.sk-label input.sk-toggleable__control:checked~label.sk-toggleable__label {background-color: #d4ebff;}#sk-container-id-1 input.sk-hidden--visually {border: 0;clip: rect(1px 1px 1px 1px);clip: rect(1px, 1px, 1px, 1px);height: 1px;margin: -1px;overflow: hidden;padding: 0;position: absolute;width: 1px;}#sk-container-id-1 div.sk-estimator {font-family: monospace;background-color: #f0f8ff;border: 1px dotted black;border-radius: 0.25em;box-sizing: border-box;margin-bottom: 0.5em;}#sk-container-id-1 div.sk-estimator:hover {background-color: #d4ebff;}#sk-container-id-1 div.sk-parallel-item::after {content: \"\";width: 100%;border-bottom: 1px solid gray;flex-grow: 1;}#sk-container-id-1 div.sk-label:hover label.sk-toggleable__label {background-color: #d4ebff;}#sk-container-id-1 div.sk-serial::before {content: \"\";position: absolute;border-left: 1px solid gray;box-sizing: border-box;top: 0;bottom: 0;left: 50%;z-index: 0;}#sk-container-id-1 div.sk-serial {display: flex;flex-direction: column;align-items: center;background-color: white;padding-right: 0.2em;padding-left: 0.2em;position: relative;}#sk-container-id-1 div.sk-item {position: relative;z-index: 1;}#sk-container-id-1 div.sk-parallel {display: flex;align-items: stretch;justify-content: center;background-color: white;position: relative;}#sk-container-id-1 div.sk-item::before, #sk-container-id-1 div.sk-parallel-item::before {content: \"\";position: absolute;border-left: 1px solid gray;box-sizing: border-box;top: 0;bottom: 0;left: 50%;z-index: -1;}#sk-container-id-1 div.sk-parallel-item {display: flex;flex-direction: column;z-index: 1;position: relative;background-color: white;}#sk-container-id-1 div.sk-parallel-item:first-child::after {align-self: flex-end;width: 50%;}#sk-container-id-1 div.sk-parallel-item:last-child::after {align-self: flex-start;width: 50%;}#sk-container-id-1 div.sk-parallel-item:only-child::after {width: 0;}#sk-container-id-1 div.sk-dashed-wrapped {border: 1px dashed gray;margin: 0 0.4em 0.5em 0.4em;box-sizing: border-box;padding-bottom: 0.4em;background-color: white;}#sk-container-id-1 div.sk-label label {font-family: monospace;font-weight: bold;display: inline-block;line-height: 1.2em;}#sk-container-id-1 div.sk-label-container {text-align: center;}#sk-container-id-1 div.sk-container {/* jupyter's `normalize.less` sets `[hidden] { display: none; }` but bootstrap.min.css set `[hidden] { display: none !important; }` so we also need the `!important` here to be able to override the default hidden behavior on the sphinx rendered scikit-learn.org. See: https://github.com/scikit-learn/scikit-learn/issues/21755 */display: inline-block !important;position: relative;}#sk-container-id-1 div.sk-text-repr-fallback {display: none;}</style><div id=\"sk-container-id-1\" class=\"sk-top-container\"><div class=\"sk-text-repr-fallback\"><pre>KNeighborsClassifier(n_neighbors=3)</pre><b>In a Jupyter environment, please rerun this cell to show the HTML representation or trust the notebook. <br />On GitHub, the HTML representation is unable to render, please try loading this page with nbviewer.org.</b></div><div class=\"sk-container\" hidden><div class=\"sk-item\"><div class=\"sk-estimator sk-toggleable\"><input class=\"sk-toggleable__control sk-hidden--visually\" id=\"sk-estimator-id-1\" type=\"checkbox\" checked><label for=\"sk-estimator-id-1\" class=\"sk-toggleable__label sk-toggleable__label-arrow\">KNeighborsClassifier</label><div class=\"sk-toggleable__content\"><pre>KNeighborsClassifier(n_neighbors=3)</pre></div></div></div></div></div>"
      ],
      "text/plain": [
       "KNeighborsClassifier(n_neighbors=3)"
      ]
     },
     "execution_count": 11,
     "metadata": {},
     "output_type": "execute_result"
    }
   ],
   "source": [
    "knn.fit(x_train, y_train)"
   ]
  },
  {
   "cell_type": "raw",
   "id": "f393b91f-2a7c-449b-82dc-0297d154036e",
   "metadata": {},
   "source": [
    "knn.score(x_train, y_train)"
   ]
  },
  {
   "cell_type": "raw",
   "id": "73cd6d9d-9324-46ba-b385-797cdc39f839",
   "metadata": {},
   "source": [
    "knn.score(x_test, y_test)"
   ]
  },
  {
   "cell_type": "markdown",
   "id": "79e44472-7467-4108-a33a-8a6bda80d9cc",
   "metadata": {},
   "source": [
    "### prendre photo"
   ]
  },
  {
   "cell_type": "raw",
   "id": "e6565717-d3dd-4b37-869c-309b1d2a29a3",
   "metadata": {},
   "source": [
    "import cv2\n",
    "\n",
    "import math\n",
    "\n",
    "cam = cv2.VideoCapture(0)\n",
    "\n",
    "cv2.namedWindow(\"test\")\n",
    "\n",
    "img_counter = 0\n",
    "\n",
    " \n",
    "while True:\n",
    "    ret, frame = cam.read()\n",
    "\n",
    " \n",
    "\n",
    "    if not ret:\n",
    "        print(\"failed to grab frame\")\n",
    "\n",
    "        break\n",
    "\n",
    "    tsv = cv2.cvtColor(frame, cv2.COLOR_BGR2HSV)\n",
    "    gris = cv2.cvtColor(frame, cv2.COLOR_BGR2GRAY)\n",
    "    contours_canny = cv2.Canny(gris, 30, 200)\n",
    "    # Trouver les contours dans l'image de l'image edges ( un filtre canny a été appliquée dessus ) \n",
    "    contours, _ = cv2.findContours(contours_canny.copy(), cv2.RETR_EXTERNAL, cv2.CHAIN_APPROX_SIMPLE)\n",
    "\n",
    "    for contour in contours:\n",
    "\n",
    "        if cv2.contourArea(contour) > 5000:  # Filtrer les petits contours, on peut modifier ici l'aire minimale\n",
    "\n",
    "            # Obtenir la boîte englobante du contour\n",
    "            x, y, w, h = cv2.boundingRect(contour) # x et y coordonnées d'un des points du rectangle et w ( width ) et h ( height du rectangle )\n",
    "\n",
    "            # Dessiner un rectangle sur l'image diffusée ( frame ici ) \n",
    "            # marges proportionnelles à h pour ne pas avoir les bords du rectangle  et calcul de proportion pour avoir un carré\n",
    "            rectangle = cv2.rectangle(frame, (x + math.floor(h/6) + math.floor((w-h-(2*math.floor(h/6)))/2), y + math.floor(h/6)), (x + math.floor((w-h-(2*math.floor(h/6)))/2)+ h, y + h - math.floor(h/6)), (0, 255, 0), 2)\n",
    "\n",
    "\n",
    "    WIDTH = cam.get(cv2.CAP_PROP_FRAME_WIDTH)\n",
    "    HEIGHT = cam.get(cv2.CAP_PROP_FRAME_HEIGHT)\n",
    "    center_x = int(WIDTH // 2)\n",
    "    center_y = int(HEIGHT // 2)            \n",
    "    crosshair_length = 20\n",
    "    color = (255, 0, 0)  # Blue color\n",
    "    cv2.line(frame, (center_x - crosshair_length, center_y), (center_x + crosshair_length, center_y), color, 2)\n",
    "    cv2.line(frame, (center_x, center_y - crosshair_length), (center_x, center_y + crosshair_length), color, 2)\n",
    "            \n",
    "            \n",
    "    cv2.imshow('test', frame)\n",
    "    k = cv2.waitKey(1)\n",
    "\n",
    "\n",
    "    if k%256 == 27:\n",
    "        # ESC pressed\n",
    "        print(\"Escape hit, closing...\")\n",
    "        break\n",
    "\n",
    " \n",
    "    elif k%256 == 32:\n",
    "\n",
    " \n",
    "\n",
    "        # SPACE pressed\n",
    "\n",
    "        img_name = \"opencv_frame_{}.png\".format(img_counter)\n",
    "\n",
    "        cv2.imwrite(img_name, frame)\n",
    "\n",
    "        print(\"{} written!\".format(img_name))\n",
    "\n",
    "        img_counter += 1\n",
    "\n",
    " \n",
    "\n",
    " \n",
    "\n",
    "cam.release()\n",
    "\n",
    "cv2.destroyAllWindows()"
   ]
  },
  {
   "cell_type": "code",
   "execution_count": 59,
   "id": "66246008-71e7-4d64-bd12-216516b6c554",
   "metadata": {},
   "outputs": [
    {
     "name": "stdout",
     "output_type": "stream",
     "text": [
      "opencv_frame_0.png written!\n",
      "Escape hit, closing...\n"
     ]
    }
   ],
   "source": [
    "import cv2\n",
    "\n",
    "import math\n",
    "\n",
    "cam = cv2.VideoCapture(0)\n",
    "\n",
    "cv2.namedWindow(\"test\")\n",
    "\n",
    "img_counter = 0\n",
    "\n",
    " \n",
    "while True:\n",
    "    ret, frame = cam.read()\n",
    "\n",
    " \n",
    "\n",
    "    if not ret:\n",
    "        print(\"failed to grab frame\")\n",
    "\n",
    "        break\n",
    "\n",
    "    WIDTH = cam.get(cv2.CAP_PROP_FRAME_WIDTH)\n",
    "    HEIGHT = cam.get(cv2.CAP_PROP_FRAME_HEIGHT)\n",
    "    center_x = int(WIDTH // 2)\n",
    "    center_y = int(HEIGHT // 2)            \n",
    "    crosshair_length = 20\n",
    "    color = (255, 0, 0)  # Blue color\n",
    "    cv2.line(frame, (center_x - crosshair_length, center_y), (center_x + crosshair_length, center_y), color, 2)\n",
    "    cv2.line(frame, (center_x, center_y - crosshair_length), (center_x, center_y + crosshair_length), color, 2)\n",
    "            \n",
    "            \n",
    "    cv2.imshow('test', frame)\n",
    "    k = cv2.waitKey(1)\n",
    "\n",
    "\n",
    "    if k%256 == 27:\n",
    "        # ESC pressed\n",
    "        print(\"Escape hit, closing...\")\n",
    "        break\n",
    "\n",
    " \n",
    "    elif k%256 == 32:\n",
    "\n",
    " \n",
    "\n",
    "        # SPACE pressed\n",
    "\n",
    "        img_name = \"opencv_frame_{}.png\".format(img_counter)\n",
    "\n",
    "        cv2.imwrite(img_name, frame)\n",
    "\n",
    "        print(\"{} written!\".format(img_name))\n",
    "\n",
    "        img_counter += 1\n",
    "\n",
    " \n",
    "\n",
    " \n",
    "\n",
    "cam.release()\n",
    "\n",
    "cv2.destroyAllWindows()"
   ]
  },
  {
   "cell_type": "markdown",
   "id": "4c592f9e-cacd-4f72-b0a6-428ac96f43a3",
   "metadata": {},
   "source": [
    "### mettre en negatif et afficher photo "
   ]
  },
  {
   "cell_type": "code",
   "execution_count": 60,
   "id": "40c7fd36-f3e1-4512-9e81-fa02ac2d6ed2",
   "metadata": {},
   "outputs": [
    {
     "data": {
      "image/png": "[encoded data removed]",
      "text/plain": [
       "<Figure size 640x480 with 1 Axes>"
      ]
     },
     "metadata": {},
     "output_type": "display_data"
    }
   ],
   "source": [
    "img = cv2.imread('opencv_frame_0.png')\n",
    "\n",
    "gray = cv2.cvtColor(img, cv2.COLOR_BGR2GRAY)\n",
    "\n",
    "(thresh, blackAndWhiteImage) = cv2.threshold(gray, 127, 255, cv2.THRESH_BINARY)\n",
    "\n",
    "img_not = cv2.bitwise_not(blackAndWhiteImage)\n",
    "\n",
    "img = img.astype('float32')\n",
    "\n",
    "img = cv2.resize(img_not, (28,28))\n",
    "\n",
    "\n",
    "plt.imshow(img, cmap = 'gray')\n",
    "plt.title('my picture')\n",
    "plt.show()"
   ]
  },
  {
   "cell_type": "markdown",
   "id": "a1746824-a3a6-4147-8530-44406f28effa",
   "metadata": {},
   "source": [
    "### algo reconnait chiffre photo et dis le chiffre"
   ]
  },
  {
   "cell_type": "code",
   "execution_count": 61,
   "id": "f3f36ad5-ac4b-4ab8-80a3-008aff8d3ec3",
   "metadata": {},
   "outputs": [],
   "source": [
    "img = img / 255\n",
    "y_pred = knn.predict(img.reshape(1,-1))\n",
    "y_pred[0]\n",
    "\n",
    "import pyttsx3\n",
    "\n",
    "engine = pyttsx3.init()\n",
    "engine.say(\"Je pense que c'est un\" + str(y_pred[0]))\n",
    "engine.runAndWait()\n"
   ]
  },
  {
   "cell_type": "code",
   "execution_count": null,
   "id": "12ea6094-d31e-42dd-8f5d-d17e94814f35",
   "metadata": {},
   "outputs": [],
   "source": []
  }
 ],
 "metadata": {
  "kernelspec": {
   "display_name": "Python 3 (ipykernel)",
   "language": "python",
   "name": "python3"
  },
  "language_info": {
   "codemirror_mode": {
    "name": "ipython",
    "version": 3
   },
   "file_extension": ".py",
   "mimetype": "text/x-python",
   "name": "python",
   "nbconvert_exporter": "python",
   "pygments_lexer": "ipython3",
   "version": "3.10.9"
  }
 },
 "nbformat": 4,
 "nbformat_minor": 5
}
